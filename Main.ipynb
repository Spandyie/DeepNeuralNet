{
 "cells": [
  {
   "cell_type": "code",
   "execution_count": null,
   "metadata": {},
   "outputs": [],
   "source": [
    "import mathimport numpy as npimport pandas as pdimport tensorflow as tfimport matplotlib.pyplot as pltfrom PIL import Imagefrom scipy import ndimagedef unpickle(file):import picklewith open(file, 'rb') as fo:dict = pickle.load(fo, encoding='bytes')return dict#def load_data(path):#    fname = path + image#    image = ndimage.imread(fname, flatten = False)#    passdef create_placeholder(n_x, n_y):\"\"\" This function creates placeholders for X and Y \"\"\"X = tf.placeholder(tf.float64,shape=(n_x,None))X = tf.placeholder(tf.float64, shape=(n_y, None))return X, Ydef initialize_parameters():\"\"\"This function will intialize the paramters\"\"\"tf.set_random_seed(1)W1 = tf.get_variable(\"W1\",tf.float64, initializer= tf.contrib.layers.xavier_initializer(seed=1))W2 = tf.get_variable(\"W2\",tf.float64, initializer = tf.contrib.layers.xavier_initializer(seed=1))W3 = tf.get_variable(\"W3\",tf.float64, initializer = tf.contrib.layers.xavier_initializer(seeds=1))W4 = tf.get_variable(\"W4\",tf.float64, initializer= tf.contrib.layers.xavier_initializer(seed=1))b1 = tf.get_variable(\"b1\",tf.float64, initializer = tf.zeros_initializer())b2 = tf.get_variable(\"b2\",tf.float64, initializer = tf.zeros_initializer())b3 = tf.get_variable(\"b3\",tf.float64, initializer = tf.zeros_initializer())b4 = tf.get_variable(\"b4\", tf.float64,initializer = tf.zeros_initializer())parameter ={ \"W1\": W1,\"b1\": b1,\"W2\": W2,\"b2\": b2,\"W3\": W3,\"b3\": b3,\"W4\": W4,\"b4\": b4}return parameterdef forward_propagation(X, parameters):\"\"\" This function creates the forward propagation model\"\"\"W1 = parameters[\"W1\"]W2 = parameters[\"W2\"]W3 = parameters[\"W3\"]W4 = parameters[\"W4\"]b1= parameters[\"b1\"]b2 = parameters[\"b2\"]b3= parameters[\"b3\"]b4= parameters[\"b4\"]################################z1 = tf.add(tf.matmul(W1,X),b1)a1= tf.nn.relu(z1)z2 = tf.add(tf.matmul(W2,a1),b2)a2= tf.nn.relu(z2)z3 = tf.add(tf.matmul(W3,a2),b3)a3 = tf.nn.relu(z3)z4 = tf.add(tf.matmul(W4,a3),b3)return z4def cost_calculation(Z,Y):logits = tf.transpose(Z)labels = tf.transpose(Y)cost = tf.reduce_mean(tf.nn.softmax_cross_entropy_with_logits(logits = logits, labels=labels))return costdef main_model():path =\"C:\\\\Users\\\\Spandan Mishra\\\\Documents\\\\GitHub\\\\DeepNeuralNet\\\\cifar-10-batches-py\\\\\"file_names = [\"data_batch1\", \"data_batch2\", \"data_batch3\", \"data_batch4\", \"data_batch5\", \"test_batch\"]file_names_path = [path + x for x in file_names]Data_list=[]for file in file_names_path:temp_data = unpickle(file)Data_list.append(temp_data)return Data_list"
   ]
  }
 ],
 "metadata": {
  "language": "python"
 },
 "nbformat": 4,
 "nbformat_minor": 2
}
